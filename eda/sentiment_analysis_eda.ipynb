{
 "cells": [
  {
   "cell_type": "code",
   "execution_count": 47,
   "id": "b1033ef4-5a60-4e83-8097-b1f7ba4b3c76",
   "metadata": {},
   "outputs": [
    {
     "data": {
      "text/html": [
       "<div>\n",
       "<style scoped>\n",
       "    .dataframe tbody tr th:only-of-type {\n",
       "        vertical-align: middle;\n",
       "    }\n",
       "\n",
       "    .dataframe tbody tr th {\n",
       "        vertical-align: top;\n",
       "    }\n",
       "\n",
       "    .dataframe thead th {\n",
       "        text-align: right;\n",
       "    }\n",
       "</style>\n",
       "<table border=\"1\" class=\"dataframe\">\n",
       "  <thead>\n",
       "    <tr style=\"text-align: right;\">\n",
       "      <th></th>\n",
       "      <th>date</th>\n",
       "      <th>title</th>\n",
       "      <th>review</th>\n",
       "      <th>rating</th>\n",
       "      <th>username</th>\n",
       "      <th>helpful_votes</th>\n",
       "      <th>review_length</th>\n",
       "      <th>platform</th>\n",
       "      <th>language</th>\n",
       "      <th>location</th>\n",
       "      <th>version</th>\n",
       "      <th>verified_purchase</th>\n",
       "    </tr>\n",
       "  </thead>\n",
       "  <tbody>\n",
       "    <tr>\n",
       "      <th>0</th>\n",
       "      <td>2/15/2025</td>\n",
       "      <td>Impressive</td>\n",
       "      <td>Mother former community upon vote fact. Sure s...</td>\n",
       "      <td>2</td>\n",
       "      <td>ybass</td>\n",
       "      <td>68</td>\n",
       "      <td>78</td>\n",
       "      <td>Mobile</td>\n",
       "      <td>es</td>\n",
       "      <td>Canada</td>\n",
       "      <td>3.0</td>\n",
       "      <td>No</td>\n",
       "    </tr>\n",
       "    <tr>\n",
       "      <th>1</th>\n",
       "      <td>10/16/2024</td>\n",
       "      <td>Waste of Time</td>\n",
       "      <td>General paper understand main. Or age half won...</td>\n",
       "      <td>5</td>\n",
       "      <td>glenn33</td>\n",
       "      <td>71</td>\n",
       "      <td>193</td>\n",
       "      <td>Web</td>\n",
       "      <td>de</td>\n",
       "      <td>India</td>\n",
       "      <td>4.1</td>\n",
       "      <td>Yes</td>\n",
       "    </tr>\n",
       "    <tr>\n",
       "      <th>2</th>\n",
       "      <td>10/16/2024</td>\n",
       "      <td>Waste of Time</td>\n",
       "      <td>Here situation his high stage. Agree certainly...</td>\n",
       "      <td>4</td>\n",
       "      <td>debbie27</td>\n",
       "      <td>66</td>\n",
       "      <td>184</td>\n",
       "      <td>Web</td>\n",
       "      <td>hi</td>\n",
       "      <td>India</td>\n",
       "      <td>4.1</td>\n",
       "      <td>Yes</td>\n",
       "    </tr>\n",
       "    <tr>\n",
       "      <th>3</th>\n",
       "      <td>12/21/2024</td>\n",
       "      <td>Not Accurate</td>\n",
       "      <td>Rule court behind growth reality. Tonight whos...</td>\n",
       "      <td>1</td>\n",
       "      <td>hannahrussell</td>\n",
       "      <td>5</td>\n",
       "      <td>193</td>\n",
       "      <td>Web</td>\n",
       "      <td>fr</td>\n",
       "      <td>Canada</td>\n",
       "      <td>4.0</td>\n",
       "      <td>Yes</td>\n",
       "    </tr>\n",
       "    <tr>\n",
       "      <th>4</th>\n",
       "      <td>3/23/2025</td>\n",
       "      <td>Fantastic Experience</td>\n",
       "      <td>Case opportunity season road write. Effort gre...</td>\n",
       "      <td>3</td>\n",
       "      <td>cnorton</td>\n",
       "      <td>71</td>\n",
       "      <td>131</td>\n",
       "      <td>Web</td>\n",
       "      <td>hi</td>\n",
       "      <td>Australia</td>\n",
       "      <td>4.1</td>\n",
       "      <td>No</td>\n",
       "    </tr>\n",
       "  </tbody>\n",
       "</table>\n",
       "</div>"
      ],
      "text/plain": [
       "         date                 title  \\\n",
       "0   2/15/2025            Impressive   \n",
       "1  10/16/2024         Waste of Time   \n",
       "2  10/16/2024         Waste of Time   \n",
       "3  12/21/2024          Not Accurate   \n",
       "4   3/23/2025  Fantastic Experience   \n",
       "\n",
       "                                              review  rating       username  \\\n",
       "0  Mother former community upon vote fact. Sure s...       2          ybass   \n",
       "1  General paper understand main. Or age half won...       5        glenn33   \n",
       "2  Here situation his high stage. Agree certainly...       4       debbie27   \n",
       "3  Rule court behind growth reality. Tonight whos...       1  hannahrussell   \n",
       "4  Case opportunity season road write. Effort gre...       3        cnorton   \n",
       "\n",
       "   helpful_votes  review_length platform language   location  version  \\\n",
       "0             68             78   Mobile       es     Canada      3.0   \n",
       "1             71            193      Web       de      India      4.1   \n",
       "2             66            184      Web       hi      India      4.1   \n",
       "3              5            193      Web       fr     Canada      4.0   \n",
       "4             71            131      Web       hi  Australia      4.1   \n",
       "\n",
       "  verified_purchase  \n",
       "0                No  \n",
       "1               Yes  \n",
       "2               Yes  \n",
       "3               Yes  \n",
       "4                No  "
      ]
     },
     "execution_count": 47,
     "metadata": {},
     "output_type": "execute_result"
    }
   ],
   "source": [
    "import pandas as pd\n",
    "\n",
    "df = pd.read_csv(r\"D:\\Jeeva\\ds_course\\sentiment_analysis\\chatgpt_reviews.csv\")\n",
    "df.head()"
   ]
  },
  {
   "cell_type": "code",
   "execution_count": 3,
   "id": "f108e098-9442-47dd-9fd3-fa87d36e13b4",
   "metadata": {},
   "outputs": [
    {
     "data": {
      "text/plain": [
       "(10000, 12)"
      ]
     },
     "execution_count": 3,
     "metadata": {},
     "output_type": "execute_result"
    }
   ],
   "source": [
    "#check for total rows and columns\n",
    "df.shape"
   ]
  },
  {
   "cell_type": "code",
   "execution_count": 49,
   "id": "84c9f9f0-2998-4fc3-b1d6-ff4722453a36",
   "metadata": {},
   "outputs": [
    {
     "data": {
      "text/plain": [
       "date                 0\n",
       "title                0\n",
       "review               0\n",
       "rating               0\n",
       "username             0\n",
       "helpful_votes        0\n",
       "review_length        0\n",
       "platform             0\n",
       "language             0\n",
       "location             0\n",
       "version              0\n",
       "verified_purchase    0\n",
       "dtype: int64"
      ]
     },
     "execution_count": 49,
     "metadata": {},
     "output_type": "execute_result"
    }
   ],
   "source": [
    "#check for total nulls\n",
    "df.isnull().sum()"
   ]
  },
  {
   "cell_type": "code",
   "execution_count": 51,
   "id": "89a9e45b-5d82-4d87-92ba-20e03ab02cec",
   "metadata": {},
   "outputs": [
    {
     "name": "stdout",
     "output_type": "stream",
     "text": [
      "<class 'pandas.core.frame.DataFrame'>\n",
      "RangeIndex: 10000 entries, 0 to 9999\n",
      "Data columns (total 12 columns):\n",
      " #   Column             Non-Null Count  Dtype  \n",
      "---  ------             --------------  -----  \n",
      " 0   date               10000 non-null  object \n",
      " 1   title              10000 non-null  object \n",
      " 2   review             10000 non-null  object \n",
      " 3   rating             10000 non-null  int64  \n",
      " 4   username           10000 non-null  object \n",
      " 5   helpful_votes      10000 non-null  int64  \n",
      " 6   review_length      10000 non-null  int64  \n",
      " 7   platform           10000 non-null  object \n",
      " 8   language           10000 non-null  object \n",
      " 9   location           10000 non-null  object \n",
      " 10  version            10000 non-null  float64\n",
      " 11  verified_purchase  10000 non-null  object \n",
      "dtypes: float64(1), int64(3), object(8)\n",
      "memory usage: 937.6+ KB\n"
     ]
    }
   ],
   "source": [
    "#check for data types and columns\n",
    "df.info()"
   ]
  },
  {
   "cell_type": "code",
   "execution_count": 53,
   "id": "7aaa8646-daaf-4e3c-a3b1-caa54e887f36",
   "metadata": {},
   "outputs": [
    {
     "data": {
      "text/html": [
       "<div>\n",
       "<style scoped>\n",
       "    .dataframe tbody tr th:only-of-type {\n",
       "        vertical-align: middle;\n",
       "    }\n",
       "\n",
       "    .dataframe tbody tr th {\n",
       "        vertical-align: top;\n",
       "    }\n",
       "\n",
       "    .dataframe thead th {\n",
       "        text-align: right;\n",
       "    }\n",
       "</style>\n",
       "<table border=\"1\" class=\"dataframe\">\n",
       "  <thead>\n",
       "    <tr style=\"text-align: right;\">\n",
       "      <th></th>\n",
       "      <th>date</th>\n",
       "      <th>title</th>\n",
       "      <th>review</th>\n",
       "      <th>rating</th>\n",
       "      <th>username</th>\n",
       "      <th>helpful_votes</th>\n",
       "      <th>review_length</th>\n",
       "      <th>platform</th>\n",
       "      <th>language</th>\n",
       "      <th>location</th>\n",
       "      <th>version</th>\n",
       "      <th>verified_purchase</th>\n",
       "    </tr>\n",
       "  </thead>\n",
       "  <tbody>\n",
       "    <tr>\n",
       "      <th>0</th>\n",
       "      <td>2/15/2025</td>\n",
       "      <td>Impressive</td>\n",
       "      <td>Mother former community upon vote fact. Sure s...</td>\n",
       "      <td>2</td>\n",
       "      <td>ybass</td>\n",
       "      <td>68</td>\n",
       "      <td>78</td>\n",
       "      <td>Mobile</td>\n",
       "      <td>es</td>\n",
       "      <td>Canada</td>\n",
       "      <td>3.0</td>\n",
       "      <td>No</td>\n",
       "    </tr>\n",
       "    <tr>\n",
       "      <th>1</th>\n",
       "      <td>10/16/2024</td>\n",
       "      <td>Waste of Time</td>\n",
       "      <td>General paper understand main. Or age half won...</td>\n",
       "      <td>5</td>\n",
       "      <td>glenn33</td>\n",
       "      <td>71</td>\n",
       "      <td>193</td>\n",
       "      <td>Web</td>\n",
       "      <td>de</td>\n",
       "      <td>India</td>\n",
       "      <td>4.1</td>\n",
       "      <td>Yes</td>\n",
       "    </tr>\n",
       "    <tr>\n",
       "      <th>2</th>\n",
       "      <td>10/16/2024</td>\n",
       "      <td>Waste of Time</td>\n",
       "      <td>Here situation his high stage. Agree certainly...</td>\n",
       "      <td>4</td>\n",
       "      <td>debbie27</td>\n",
       "      <td>66</td>\n",
       "      <td>184</td>\n",
       "      <td>Web</td>\n",
       "      <td>hi</td>\n",
       "      <td>India</td>\n",
       "      <td>4.1</td>\n",
       "      <td>Yes</td>\n",
       "    </tr>\n",
       "    <tr>\n",
       "      <th>3</th>\n",
       "      <td>12/21/2024</td>\n",
       "      <td>Not Accurate</td>\n",
       "      <td>Rule court behind growth reality. Tonight whos...</td>\n",
       "      <td>1</td>\n",
       "      <td>hannahrussell</td>\n",
       "      <td>5</td>\n",
       "      <td>193</td>\n",
       "      <td>Web</td>\n",
       "      <td>fr</td>\n",
       "      <td>Canada</td>\n",
       "      <td>4.0</td>\n",
       "      <td>Yes</td>\n",
       "    </tr>\n",
       "    <tr>\n",
       "      <th>4</th>\n",
       "      <td>3/23/2025</td>\n",
       "      <td>Fantastic Experience</td>\n",
       "      <td>Case opportunity season road write. Effort gre...</td>\n",
       "      <td>3</td>\n",
       "      <td>cnorton</td>\n",
       "      <td>71</td>\n",
       "      <td>131</td>\n",
       "      <td>Web</td>\n",
       "      <td>hi</td>\n",
       "      <td>Australia</td>\n",
       "      <td>4.1</td>\n",
       "      <td>No</td>\n",
       "    </tr>\n",
       "  </tbody>\n",
       "</table>\n",
       "</div>"
      ],
      "text/plain": [
       "         date                 title  \\\n",
       "0   2/15/2025            Impressive   \n",
       "1  10/16/2024         Waste of Time   \n",
       "2  10/16/2024         Waste of Time   \n",
       "3  12/21/2024          Not Accurate   \n",
       "4   3/23/2025  Fantastic Experience   \n",
       "\n",
       "                                              review  rating       username  \\\n",
       "0  Mother former community upon vote fact. Sure s...       2          ybass   \n",
       "1  General paper understand main. Or age half won...       5        glenn33   \n",
       "2  Here situation his high stage. Agree certainly...       4       debbie27   \n",
       "3  Rule court behind growth reality. Tonight whos...       1  hannahrussell   \n",
       "4  Case opportunity season road write. Effort gre...       3        cnorton   \n",
       "\n",
       "   helpful_votes  review_length platform language   location  version  \\\n",
       "0             68             78   Mobile       es     Canada      3.0   \n",
       "1             71            193      Web       de      India      4.1   \n",
       "2             66            184      Web       hi      India      4.1   \n",
       "3              5            193      Web       fr     Canada      4.0   \n",
       "4             71            131      Web       hi  Australia      4.1   \n",
       "\n",
       "  verified_purchase  \n",
       "0                No  \n",
       "1               Yes  \n",
       "2               Yes  \n",
       "3               Yes  \n",
       "4                No  "
      ]
     },
     "execution_count": 53,
     "metadata": {},
     "output_type": "execute_result"
    }
   ],
   "source": [
    "#check first 5 data\n",
    "df.head(5)"
   ]
  },
  {
   "cell_type": "code",
   "execution_count": 55,
   "id": "c027385f-bd34-44b8-a8b6-55f5c62d6633",
   "metadata": {},
   "outputs": [
    {
     "name": "stdout",
     "output_type": "stream",
     "text": [
      "<class 'pandas.core.frame.DataFrame'>\n",
      "RangeIndex: 10000 entries, 0 to 9999\n",
      "Data columns (total 12 columns):\n",
      " #   Column             Non-Null Count  Dtype         \n",
      "---  ------             --------------  -----         \n",
      " 0   date               10000 non-null  datetime64[ns]\n",
      " 1   title              10000 non-null  object        \n",
      " 2   review             10000 non-null  object        \n",
      " 3   rating             10000 non-null  int64         \n",
      " 4   username           10000 non-null  object        \n",
      " 5   helpful_votes      10000 non-null  int64         \n",
      " 6   review_length      10000 non-null  int64         \n",
      " 7   platform           10000 non-null  object        \n",
      " 8   language           10000 non-null  object        \n",
      " 9   location           10000 non-null  object        \n",
      " 10  version            10000 non-null  float64       \n",
      " 11  verified_purchase  10000 non-null  object        \n",
      "dtypes: datetime64[ns](1), float64(1), int64(3), object(7)\n",
      "memory usage: 937.6+ KB\n"
     ]
    }
   ],
   "source": [
    "#converting date column to datetime \n",
    "df['date'] = pd.to_datetime(df['date'])\n",
    "df.head(5)\n",
    "df.info()"
   ]
  },
  {
   "cell_type": "code",
   "execution_count": 57,
   "id": "8f396ae9-a5b9-4bc8-8989-476f1c349130",
   "metadata": {},
   "outputs": [],
   "source": [
    "#droping username column as it is not significant\n",
    "df.drop(columns=[\"username\"],inplace=True)"
   ]
  },
  {
   "cell_type": "code",
   "execution_count": 59,
   "id": "bee61904-27c5-4471-9f99-6daa007d2c14",
   "metadata": {},
   "outputs": [
    {
     "name": "stdout",
     "output_type": "stream",
     "text": [
      "<class 'pandas.core.frame.DataFrame'>\n",
      "RangeIndex: 10000 entries, 0 to 9999\n",
      "Data columns (total 11 columns):\n",
      " #   Column             Non-Null Count  Dtype         \n",
      "---  ------             --------------  -----         \n",
      " 0   date               10000 non-null  datetime64[ns]\n",
      " 1   title              10000 non-null  object        \n",
      " 2   review             10000 non-null  object        \n",
      " 3   rating             10000 non-null  int64         \n",
      " 4   helpful_votes      10000 non-null  int64         \n",
      " 5   review_length      10000 non-null  int64         \n",
      " 6   platform           10000 non-null  object        \n",
      " 7   language           10000 non-null  object        \n",
      " 8   location           10000 non-null  object        \n",
      " 9   version            10000 non-null  float64       \n",
      " 10  verified_purchase  10000 non-null  object        \n",
      "dtypes: datetime64[ns](1), float64(1), int64(3), object(6)\n",
      "memory usage: 859.5+ KB\n"
     ]
    }
   ],
   "source": [
    "df.info()"
   ]
  },
  {
   "cell_type": "code",
   "execution_count": 19,
   "id": "669a660e-7c36-4296-bec6-e6f544dd0b8b",
   "metadata": {},
   "outputs": [
    {
     "data": {
      "text/plain": [
       "title                   10\n",
       "review               10000\n",
       "platform                 2\n",
       "language                 5\n",
       "location                 6\n",
       "verified_purchase        2\n",
       "dtype: int64"
      ]
     },
     "execution_count": 19,
     "metadata": {},
     "output_type": "execute_result"
    }
   ],
   "source": [
    "#cardinality check\n",
    "df.select_dtypes(include='object').nunique()\n"
   ]
  },
  {
   "cell_type": "code",
   "execution_count": 19,
   "id": "65ca5ad1-965c-4bbc-9a4d-908ef0e6aad5",
   "metadata": {},
   "outputs": [
    {
     "data": {
      "text/plain": [
       "array(['Impressive', 'Waste of Time', 'Not Accurate',\n",
       "       'Fantastic Experience', 'Very Helpful', 'Needs Improvement',\n",
       "       'Superb!', 'Great Tool!', 'Too Slow', 'Buggy'], dtype=object)"
      ]
     },
     "execution_count": 19,
     "metadata": {},
     "output_type": "execute_result"
    }
   ],
   "source": [
    "#checking unique values in categorical columns\n",
    "df['title'].unique()"
   ]
  },
  {
   "cell_type": "code",
   "execution_count": 21,
   "id": "397a83d6-b29e-4b68-bfa2-0fbde23aa552",
   "metadata": {},
   "outputs": [
    {
     "data": {
      "text/plain": [
       "array(['Mobile', 'Web'], dtype=object)"
      ]
     },
     "execution_count": 21,
     "metadata": {},
     "output_type": "execute_result"
    }
   ],
   "source": [
    "#unique values in platform\n",
    "df['platform'].unique()"
   ]
  },
  {
   "cell_type": "code",
   "execution_count": 23,
   "id": "fed042c5-7db6-4193-b71a-8e2763398ab2",
   "metadata": {},
   "outputs": [
    {
     "data": {
      "text/plain": [
       "array(['es', 'de', 'hi', 'fr', 'en'], dtype=object)"
      ]
     },
     "execution_count": 23,
     "metadata": {},
     "output_type": "execute_result"
    }
   ],
   "source": [
    "#unique values in language\n",
    "df['language'].unique()"
   ]
  },
  {
   "cell_type": "code",
   "execution_count": 25,
   "id": "4a5d7ecb-db7f-4a99-b566-84e23680ca90",
   "metadata": {},
   "outputs": [
    {
     "data": {
      "text/plain": [
       "array(['Canada', 'India', 'Australia', 'Germany', 'UK', 'USA'],\n",
       "      dtype=object)"
      ]
     },
     "execution_count": 25,
     "metadata": {},
     "output_type": "execute_result"
    }
   ],
   "source": [
    "#unique values in platform\n",
    "df['location'].unique()"
   ]
  },
  {
   "cell_type": "code",
   "execution_count": 27,
   "id": "99556762-12d4-4368-8e20-a59e04f40a58",
   "metadata": {},
   "outputs": [
    {
     "data": {
      "text/plain": [
       "array(['No', 'Yes'], dtype=object)"
      ]
     },
     "execution_count": 27,
     "metadata": {},
     "output_type": "execute_result"
    }
   ],
   "source": [
    "#unique values in verified_purchase\n",
    "df['verified_purchase'].unique()"
   ]
  },
  {
   "cell_type": "code",
   "execution_count": 29,
   "id": "5b0a266d-05cc-417a-9220-9903aa5938d9",
   "metadata": {},
   "outputs": [
    {
     "name": "stdout",
     "output_type": "stream",
     "text": [
      "title\n",
      "Buggy                   1037\n",
      "Very Helpful            1019\n",
      "Waste of Time           1018\n",
      "Too Slow                1016\n",
      "Superb!                 1012\n",
      "Great Tool!             1001\n",
      "Needs Improvement        994\n",
      "Fantastic Experience     984\n",
      "Impressive               970\n",
      "Not Accurate             949\n",
      "Name: count, dtype: int64\n",
      "\n",
      "platform\n",
      "Mobile    5011\n",
      "Web       4989\n",
      "Name: count, dtype: int64\n",
      "\n",
      "language\n",
      "en    2016\n",
      "fr    2013\n",
      "de    2001\n",
      "hi    1991\n",
      "es    1979\n",
      "Name: count, dtype: int64\n",
      "\n",
      "location\n",
      "Canada       1711\n",
      "UK           1686\n",
      "Germany      1664\n",
      "India        1659\n",
      "USA          1654\n",
      "Australia    1626\n",
      "Name: count, dtype: int64\n",
      "\n",
      "verified_purchase\n",
      "No     5116\n",
      "Yes    4884\n",
      "Name: count, dtype: int64\n",
      "\n"
     ]
    }
   ],
   "source": [
    "# Check data distribution for object columns\n",
    "for col in ['title', 'platform', 'language', 'location', 'verified_purchase']:\n",
    "    print(df[col].value_counts())\n",
    "    print()\n"
   ]
  },
  {
   "cell_type": "code",
   "execution_count": 61,
   "id": "ef637c77-6e63-4b26-925f-1a67e457590b",
   "metadata": {},
   "outputs": [],
   "source": [
    "def map_sentiment(rating):\n",
    "    if rating >= 4:\n",
    "        return 'positive'\n",
    "    elif rating == 3:\n",
    "        return 'neutral'\n",
    "    else:\n",
    "        return 'negative'\n",
    "\n",
    "df['sentiment'] = df['rating'].apply(map_sentiment)\n"
   ]
  },
  {
   "cell_type": "code",
   "execution_count": 63,
   "id": "09bed679-8811-473d-ba0e-557a24a75e8f",
   "metadata": {},
   "outputs": [
    {
     "name": "stdout",
     "output_type": "stream",
     "text": [
      "<class 'pandas.core.frame.DataFrame'>\n",
      "RangeIndex: 10000 entries, 0 to 9999\n",
      "Data columns (total 12 columns):\n",
      " #   Column             Non-Null Count  Dtype         \n",
      "---  ------             --------------  -----         \n",
      " 0   date               10000 non-null  datetime64[ns]\n",
      " 1   title              10000 non-null  object        \n",
      " 2   review             10000 non-null  object        \n",
      " 3   rating             10000 non-null  int64         \n",
      " 4   helpful_votes      10000 non-null  int64         \n",
      " 5   review_length      10000 non-null  int64         \n",
      " 6   platform           10000 non-null  object        \n",
      " 7   language           10000 non-null  object        \n",
      " 8   location           10000 non-null  object        \n",
      " 9   version            10000 non-null  float64       \n",
      " 10  verified_purchase  10000 non-null  object        \n",
      " 11  sentiment          10000 non-null  object        \n",
      "dtypes: datetime64[ns](1), float64(1), int64(3), object(7)\n",
      "memory usage: 937.6+ KB\n"
     ]
    }
   ],
   "source": [
    "df.info()"
   ]
  },
  {
   "cell_type": "code",
   "execution_count": 60,
   "id": "f8407291-c1a8-4dbe-ab50-a532be625852",
   "metadata": {},
   "outputs": [
    {
     "data": {
      "text/plain": [
       "count    10000.000000\n",
       "mean       147.034000\n",
       "std         34.911708\n",
       "min         30.000000\n",
       "25%        122.000000\n",
       "50%        151.000000\n",
       "75%        176.000000\n",
       "max        199.000000\n",
       "Name: review_length, dtype: float64"
      ]
     },
     "execution_count": 60,
     "metadata": {},
     "output_type": "execute_result"
    }
   ],
   "source": [
    "df['review_length'] = df['review'].str.len()\n",
    "df['review_length'].describe()"
   ]
  },
  {
   "cell_type": "code",
   "execution_count": 62,
   "id": "7c4e9934-7167-415b-8ae5-7f1ce6fa93d8",
   "metadata": {},
   "outputs": [
    {
     "data": {
      "text/plain": [
       "rating\n",
       "1    2062\n",
       "5    2013\n",
       "2    2007\n",
       "4    1975\n",
       "3    1943\n",
       "Name: count, dtype: int64"
      ]
     },
     "execution_count": 62,
     "metadata": {},
     "output_type": "execute_result"
    }
   ],
   "source": [
    "#value count for rating\n",
    "df['rating'].value_counts()"
   ]
  },
  {
   "cell_type": "code",
   "execution_count": 64,
   "id": "992a2a56-8385-468c-9e3b-d763a50bfcc2",
   "metadata": {},
   "outputs": [
    {
     "data": {
      "text/plain": [
       "version\n",
       "4.1    2522\n",
       "3.0    2496\n",
       "4.0    2491\n",
       "3.5    2491\n",
       "Name: count, dtype: int64"
      ]
     },
     "execution_count": 64,
     "metadata": {},
     "output_type": "execute_result"
    }
   ],
   "source": [
    "#value count for version\n",
    "df['version'].value_counts()"
   ]
  },
  {
   "cell_type": "code",
   "execution_count": 66,
   "id": "692d9b35-e59b-4414-a386-b9fbc73434e0",
   "metadata": {},
   "outputs": [],
   "source": [
    "#extracting date\n",
    "edf= df.copy()\n",
    "edf['month'] = edf['date'].dt.month\n",
    "edf['day'] = edf['date'].dt.day\n",
    "edf['weekday_name'] = edf['date'].dt.day_name() \n",
    "edf['is_weekend'] = edf['weekday_name'].isin([\"Sunday\", \"Saturday\"]) \n"
   ]
  },
  {
   "cell_type": "code",
   "execution_count": 68,
   "id": "3e33781c-daae-4836-bd0c-04c9b34eaee9",
   "metadata": {},
   "outputs": [
    {
     "name": "stdout",
     "output_type": "stream",
     "text": [
      "<class 'pandas.core.frame.DataFrame'>\n",
      "RangeIndex: 10000 entries, 0 to 9999\n",
      "Data columns (total 16 columns):\n",
      " #   Column             Non-Null Count  Dtype         \n",
      "---  ------             --------------  -----         \n",
      " 0   date               10000 non-null  datetime64[ns]\n",
      " 1   title              10000 non-null  object        \n",
      " 2   review             10000 non-null  object        \n",
      " 3   rating             10000 non-null  int64         \n",
      " 4   helpful_votes      10000 non-null  int64         \n",
      " 5   review_length      10000 non-null  int64         \n",
      " 6   platform           10000 non-null  object        \n",
      " 7   language           10000 non-null  object        \n",
      " 8   location           10000 non-null  object        \n",
      " 9   version            10000 non-null  float64       \n",
      " 10  verified_purchase  10000 non-null  object        \n",
      " 11  sentiment          10000 non-null  object        \n",
      " 12  month              10000 non-null  int32         \n",
      " 13  day                10000 non-null  int32         \n",
      " 14  weekday_name       10000 non-null  object        \n",
      " 15  is_weekend         10000 non-null  bool          \n",
      "dtypes: bool(1), datetime64[ns](1), float64(1), int32(2), int64(3), object(8)\n",
      "memory usage: 1.1+ MB\n"
     ]
    }
   ],
   "source": [
    "edf.info()"
   ]
  },
  {
   "cell_type": "code",
   "execution_count": 70,
   "id": "28cca55a-3cc9-49eb-9cb5-0fa8426143ef",
   "metadata": {},
   "outputs": [
    {
     "data": {
      "text/html": [
       "<div>\n",
       "<style scoped>\n",
       "    .dataframe tbody tr th:only-of-type {\n",
       "        vertical-align: middle;\n",
       "    }\n",
       "\n",
       "    .dataframe tbody tr th {\n",
       "        vertical-align: top;\n",
       "    }\n",
       "\n",
       "    .dataframe thead th {\n",
       "        text-align: right;\n",
       "    }\n",
       "</style>\n",
       "<table border=\"1\" class=\"dataframe\">\n",
       "  <thead>\n",
       "    <tr style=\"text-align: right;\">\n",
       "      <th></th>\n",
       "      <th>date</th>\n",
       "      <th>title</th>\n",
       "      <th>review</th>\n",
       "      <th>rating</th>\n",
       "      <th>helpful_votes</th>\n",
       "      <th>review_length</th>\n",
       "      <th>platform</th>\n",
       "      <th>language</th>\n",
       "      <th>location</th>\n",
       "      <th>version</th>\n",
       "      <th>verified_purchase</th>\n",
       "      <th>sentiment</th>\n",
       "      <th>month</th>\n",
       "      <th>day</th>\n",
       "      <th>weekday_name</th>\n",
       "      <th>is_weekend</th>\n",
       "    </tr>\n",
       "  </thead>\n",
       "  <tbody>\n",
       "    <tr>\n",
       "      <th>9995</th>\n",
       "      <td>2024-06-13</td>\n",
       "      <td>Very Helpful</td>\n",
       "      <td>Little section hit her through. Likely job ind...</td>\n",
       "      <td>5</td>\n",
       "      <td>30</td>\n",
       "      <td>83</td>\n",
       "      <td>Web</td>\n",
       "      <td>de</td>\n",
       "      <td>Australia</td>\n",
       "      <td>3.0</td>\n",
       "      <td>No</td>\n",
       "      <td>positive</td>\n",
       "      <td>6</td>\n",
       "      <td>13</td>\n",
       "      <td>Thursday</td>\n",
       "      <td>False</td>\n",
       "    </tr>\n",
       "    <tr>\n",
       "      <th>9996</th>\n",
       "      <td>2024-07-16</td>\n",
       "      <td>Buggy</td>\n",
       "      <td>Throw with record relationship help reduce vot...</td>\n",
       "      <td>3</td>\n",
       "      <td>68</td>\n",
       "      <td>189</td>\n",
       "      <td>Mobile</td>\n",
       "      <td>es</td>\n",
       "      <td>Germany</td>\n",
       "      <td>3.5</td>\n",
       "      <td>Yes</td>\n",
       "      <td>neutral</td>\n",
       "      <td>7</td>\n",
       "      <td>16</td>\n",
       "      <td>Tuesday</td>\n",
       "      <td>False</td>\n",
       "    </tr>\n",
       "    <tr>\n",
       "      <th>9997</th>\n",
       "      <td>2024-07-22</td>\n",
       "      <td>Not Accurate</td>\n",
       "      <td>Within nothing study charge all. Toward milita...</td>\n",
       "      <td>3</td>\n",
       "      <td>10</td>\n",
       "      <td>185</td>\n",
       "      <td>Web</td>\n",
       "      <td>de</td>\n",
       "      <td>India</td>\n",
       "      <td>3.0</td>\n",
       "      <td>Yes</td>\n",
       "      <td>neutral</td>\n",
       "      <td>7</td>\n",
       "      <td>22</td>\n",
       "      <td>Monday</td>\n",
       "      <td>False</td>\n",
       "    </tr>\n",
       "    <tr>\n",
       "      <th>9998</th>\n",
       "      <td>2024-05-24</td>\n",
       "      <td>Needs Improvement</td>\n",
       "      <td>Rule kitchen trouble cultural.\\nDeep manage ad...</td>\n",
       "      <td>3</td>\n",
       "      <td>48</td>\n",
       "      <td>163</td>\n",
       "      <td>Mobile</td>\n",
       "      <td>fr</td>\n",
       "      <td>UK</td>\n",
       "      <td>3.0</td>\n",
       "      <td>Yes</td>\n",
       "      <td>neutral</td>\n",
       "      <td>5</td>\n",
       "      <td>24</td>\n",
       "      <td>Friday</td>\n",
       "      <td>False</td>\n",
       "    </tr>\n",
       "    <tr>\n",
       "      <th>9999</th>\n",
       "      <td>2025-02-17</td>\n",
       "      <td>Fantastic Experience</td>\n",
       "      <td>Resource plant behind vote its try laugh. Othe...</td>\n",
       "      <td>2</td>\n",
       "      <td>61</td>\n",
       "      <td>81</td>\n",
       "      <td>Web</td>\n",
       "      <td>en</td>\n",
       "      <td>Germany</td>\n",
       "      <td>3.5</td>\n",
       "      <td>Yes</td>\n",
       "      <td>negative</td>\n",
       "      <td>2</td>\n",
       "      <td>17</td>\n",
       "      <td>Monday</td>\n",
       "      <td>False</td>\n",
       "    </tr>\n",
       "  </tbody>\n",
       "</table>\n",
       "</div>"
      ],
      "text/plain": [
       "           date                 title  \\\n",
       "9995 2024-06-13          Very Helpful   \n",
       "9996 2024-07-16                 Buggy   \n",
       "9997 2024-07-22          Not Accurate   \n",
       "9998 2024-05-24     Needs Improvement   \n",
       "9999 2025-02-17  Fantastic Experience   \n",
       "\n",
       "                                                 review  rating  \\\n",
       "9995  Little section hit her through. Likely job ind...       5   \n",
       "9996  Throw with record relationship help reduce vot...       3   \n",
       "9997  Within nothing study charge all. Toward milita...       3   \n",
       "9998  Rule kitchen trouble cultural.\\nDeep manage ad...       3   \n",
       "9999  Resource plant behind vote its try laugh. Othe...       2   \n",
       "\n",
       "      helpful_votes  review_length platform language   location  version  \\\n",
       "9995             30             83      Web       de  Australia      3.0   \n",
       "9996             68            189   Mobile       es    Germany      3.5   \n",
       "9997             10            185      Web       de      India      3.0   \n",
       "9998             48            163   Mobile       fr         UK      3.0   \n",
       "9999             61             81      Web       en    Germany      3.5   \n",
       "\n",
       "     verified_purchase sentiment  month  day weekday_name  is_weekend  \n",
       "9995                No  positive      6   13     Thursday       False  \n",
       "9996               Yes   neutral      7   16      Tuesday       False  \n",
       "9997               Yes   neutral      7   22       Monday       False  \n",
       "9998               Yes   neutral      5   24       Friday       False  \n",
       "9999               Yes  negative      2   17       Monday       False  "
      ]
     },
     "execution_count": 70,
     "metadata": {},
     "output_type": "execute_result"
    }
   ],
   "source": [
    "edf.tail(5)"
   ]
  },
  {
   "cell_type": "code",
   "execution_count": 72,
   "id": "565bf0f2-f2b3-47ad-b071-d259aa7fafa7",
   "metadata": {},
   "outputs": [
    {
     "data": {
      "text/plain": [
       "<Axes: xlabel='weekday_name', ylabel='count'>"
      ]
     },
     "execution_count": 72,
     "metadata": {},
     "output_type": "execute_result"
    },
    {
     "data": {
      "image/png": "[encoded data removed]",
      "text/plain": [
       "<Figure size 640x480 with 1 Axes>"
      ]
     },
     "metadata": {},
     "output_type": "display_data"
    }
   ],
   "source": [
    "edf[edf['sentiment'] == 'positive'].groupby(['is_weekend'])['sentiment'].count()\n",
    "import seaborn as sns\n",
    "sns.countplot(data=edf[edf['sentiment'] == 'positive'], x='weekday_name', hue='is_weekend')\n"
   ]
  },
  {
   "cell_type": "code",
   "execution_count": 74,
   "id": "8b9dc490-a89d-4a51-8ee3-c6bede17df31",
   "metadata": {},
   "outputs": [],
   "source": [
    "pos_counts = edf[edf['sentiment'] == 'positive'].groupby('is_weekend').size()\n",
    "neg_counts = edf[edf['sentiment'] == 'negative'].groupby('is_weekend').size()\n"
   ]
  },
  {
   "cell_type": "code",
   "execution_count": 51,
   "id": "6771b27b-2215-4b5c-b64f-796da64229ff",
   "metadata": {},
   "outputs": [
    {
     "data": {
      "text/plain": [
       "<Axes: title={'center': 'Positive Review Trend Over Time'}, xlabel='month'>"
      ]
     },
     "execution_count": 51,
     "metadata": {},
     "output_type": "execute_result"
    },
    {
     "data": {
      "image/png": "[encoded data removed]",
      "text/plain": [
       "<Figure size 640x480 with 1 Axes>"
      ]
     },
     "metadata": {},
     "output_type": "display_data"
    }
   ],
   "source": [
    "pos_daily = edf[edf['sentiment'] == 'positive'].groupby('month').size()\n",
    "pos_daily.plot(title='Positive Review Trend Over Time')\n"
   ]
  },
  {
   "cell_type": "code",
   "execution_count": 55,
   "id": "a6bfec86-6d02-454f-b5fc-8b95dbb9c008",
   "metadata": {},
   "outputs": [
    {
     "data": {
      "text/plain": [
       "<Axes: title={'center': 'negative Review Trend Over Time'}, xlabel='month'>"
      ]
     },
     "execution_count": 55,
     "metadata": {},
     "output_type": "execute_result"
    },
    {
     "data": {
      "image/png": "[encoded data removed]",
      "text/plain": [
       "<Figure size 640x480 with 1 Axes>"
      ]
     },
     "metadata": {},
     "output_type": "display_data"
    }
   ],
   "source": [
    "neg_daily = edf[edf['sentiment'] == 'negative'].groupby('month').size()\n",
    "neg_daily.plot(title='negative Review Trend Over Time')"
   ]
  },
  {
   "cell_type": "code",
   "execution_count": 57,
   "id": "bf8a09f1-8c05-43cc-a8c2-44d9981d90d7",
   "metadata": {},
   "outputs": [
    {
     "data": {
      "text/plain": [
       "<Axes: title={'center': 'Monthly Sentiment Trend'}, xlabel='month'>"
      ]
     },
     "execution_count": 57,
     "metadata": {},
     "output_type": "execute_result"
    },
    {
     "data": {
      "image/png": "[encoded data removed]",
      "text/plain": [
       "<Figure size 640x480 with 1 Axes>"
      ]
     },
     "metadata": {},
     "output_type": "display_data"
    }
   ],
   "source": [
    "monthly = edf.groupby(['month', 'sentiment']).size().unstack(fill_value=0)\n",
    "monthly.plot(kind='line', marker='o', title='Monthly Sentiment Trend')\n"
   ]
  },
  {
   "cell_type": "code",
   "execution_count": 69,
   "id": "a407a30c-d07b-487a-b602-0a79208c4cfd",
   "metadata": {},
   "outputs": [
    {
     "data": {
      "text/html": [
       "<div>\n",
       "<style scoped>\n",
       "    .dataframe tbody tr th:only-of-type {\n",
       "        vertical-align: middle;\n",
       "    }\n",
       "\n",
       "    .dataframe tbody tr th {\n",
       "        vertical-align: top;\n",
       "    }\n",
       "\n",
       "    .dataframe thead th {\n",
       "        text-align: right;\n",
       "    }\n",
       "</style>\n",
       "<table border=\"1\" class=\"dataframe\">\n",
       "  <thead>\n",
       "    <tr style=\"text-align: right;\">\n",
       "      <th></th>\n",
       "      <th>date</th>\n",
       "      <th>rating</th>\n",
       "      <th>helpful_votes</th>\n",
       "      <th>review_length</th>\n",
       "      <th>version</th>\n",
       "      <th>month</th>\n",
       "      <th>day</th>\n",
       "      <th>year</th>\n",
       "    </tr>\n",
       "  </thead>\n",
       "  <tbody>\n",
       "    <tr>\n",
       "      <th>count</th>\n",
       "      <td>10000</td>\n",
       "      <td>10000.000000</td>\n",
       "      <td>10000.000000</td>\n",
       "      <td>10000.000000</td>\n",
       "      <td>10000.000000</td>\n",
       "      <td>10000.000000</td>\n",
       "      <td>10000.000000</td>\n",
       "      <td>10000.000000</td>\n",
       "    </tr>\n",
       "    <tr>\n",
       "      <th>mean</th>\n",
       "      <td>2024-09-25 04:15:36</td>\n",
       "      <td>2.987000</td>\n",
       "      <td>50.347800</td>\n",
       "      <td>147.034000</td>\n",
       "      <td>3.651070</td>\n",
       "      <td>6.522700</td>\n",
       "      <td>15.731400</td>\n",
       "      <td>2024.233600</td>\n",
       "    </tr>\n",
       "    <tr>\n",
       "      <th>min</th>\n",
       "      <td>2024-03-26 00:00:00</td>\n",
       "      <td>1.000000</td>\n",
       "      <td>0.000000</td>\n",
       "      <td>30.000000</td>\n",
       "      <td>3.000000</td>\n",
       "      <td>1.000000</td>\n",
       "      <td>1.000000</td>\n",
       "      <td>2024.000000</td>\n",
       "    </tr>\n",
       "    <tr>\n",
       "      <th>25%</th>\n",
       "      <td>2024-06-26 00:00:00</td>\n",
       "      <td>2.000000</td>\n",
       "      <td>25.000000</td>\n",
       "      <td>122.000000</td>\n",
       "      <td>3.500000</td>\n",
       "      <td>4.000000</td>\n",
       "      <td>8.000000</td>\n",
       "      <td>2024.000000</td>\n",
       "    </tr>\n",
       "    <tr>\n",
       "      <th>50%</th>\n",
       "      <td>2024-09-27 00:00:00</td>\n",
       "      <td>3.000000</td>\n",
       "      <td>50.000000</td>\n",
       "      <td>151.000000</td>\n",
       "      <td>4.000000</td>\n",
       "      <td>7.000000</td>\n",
       "      <td>16.000000</td>\n",
       "      <td>2024.000000</td>\n",
       "    </tr>\n",
       "    <tr>\n",
       "      <th>75%</th>\n",
       "      <td>2024-12-26 00:00:00</td>\n",
       "      <td>4.000000</td>\n",
       "      <td>75.000000</td>\n",
       "      <td>176.000000</td>\n",
       "      <td>4.100000</td>\n",
       "      <td>10.000000</td>\n",
       "      <td>23.000000</td>\n",
       "      <td>2024.000000</td>\n",
       "    </tr>\n",
       "    <tr>\n",
       "      <th>max</th>\n",
       "      <td>2025-03-26 00:00:00</td>\n",
       "      <td>5.000000</td>\n",
       "      <td>100.000000</td>\n",
       "      <td>199.000000</td>\n",
       "      <td>4.100000</td>\n",
       "      <td>12.000000</td>\n",
       "      <td>31.000000</td>\n",
       "      <td>2025.000000</td>\n",
       "    </tr>\n",
       "    <tr>\n",
       "      <th>std</th>\n",
       "      <td>NaN</td>\n",
       "      <td>1.424161</td>\n",
       "      <td>28.914613</td>\n",
       "      <td>34.911708</td>\n",
       "      <td>0.438935</td>\n",
       "      <td>3.471842</td>\n",
       "      <td>8.804954</td>\n",
       "      <td>0.423142</td>\n",
       "    </tr>\n",
       "  </tbody>\n",
       "</table>\n",
       "</div>"
      ],
      "text/plain": [
       "                      date        rating  helpful_votes  review_length  \\\n",
       "count                10000  10000.000000   10000.000000   10000.000000   \n",
       "mean   2024-09-25 04:15:36      2.987000      50.347800     147.034000   \n",
       "min    2024-03-26 00:00:00      1.000000       0.000000      30.000000   \n",
       "25%    2024-06-26 00:00:00      2.000000      25.000000     122.000000   \n",
       "50%    2024-09-27 00:00:00      3.000000      50.000000     151.000000   \n",
       "75%    2024-12-26 00:00:00      4.000000      75.000000     176.000000   \n",
       "max    2025-03-26 00:00:00      5.000000     100.000000     199.000000   \n",
       "std                    NaN      1.424161      28.914613      34.911708   \n",
       "\n",
       "            version         month           day          year  \n",
       "count  10000.000000  10000.000000  10000.000000  10000.000000  \n",
       "mean       3.651070      6.522700     15.731400   2024.233600  \n",
       "min        3.000000      1.000000      1.000000   2024.000000  \n",
       "25%        3.500000      4.000000      8.000000   2024.000000  \n",
       "50%        4.000000      7.000000     16.000000   2024.000000  \n",
       "75%        4.100000     10.000000     23.000000   2024.000000  \n",
       "max        4.100000     12.000000     31.000000   2025.000000  \n",
       "std        0.438935      3.471842      8.804954      0.423142  "
      ]
     },
     "execution_count": 69,
     "metadata": {},
     "output_type": "execute_result"
    }
   ],
   "source": [
    "edf.describe()"
   ]
  },
  {
   "cell_type": "code",
   "execution_count": 67,
   "id": "c50e6b7d-32ef-4cfe-8ca6-81a3381b44fa",
   "metadata": {},
   "outputs": [],
   "source": [
    "edf['year'] = edf['date'].dt.year"
   ]
  },
  {
   "cell_type": "code",
   "execution_count": 93,
   "id": "e6cbd0a2-6209-4227-b6c8-23b8ac50e9db",
   "metadata": {},
   "outputs": [
    {
     "data": {
      "text/html": [
       "<div>\n",
       "<style scoped>\n",
       "    .dataframe tbody tr th:only-of-type {\n",
       "        vertical-align: middle;\n",
       "    }\n",
       "\n",
       "    .dataframe tbody tr th {\n",
       "        vertical-align: top;\n",
       "    }\n",
       "\n",
       "    .dataframe thead th {\n",
       "        text-align: right;\n",
       "    }\n",
       "</style>\n",
       "<table border=\"1\" class=\"dataframe\">\n",
       "  <thead>\n",
       "    <tr style=\"text-align: right;\">\n",
       "      <th></th>\n",
       "      <th>date</th>\n",
       "      <th>rating</th>\n",
       "      <th>helpful_votes</th>\n",
       "      <th>review_length</th>\n",
       "      <th>version</th>\n",
       "      <th>month</th>\n",
       "      <th>day</th>\n",
       "      <th>year</th>\n",
       "    </tr>\n",
       "  </thead>\n",
       "  <tbody>\n",
       "    <tr>\n",
       "      <th>count</th>\n",
       "      <td>9992</td>\n",
       "      <td>9992.000000</td>\n",
       "      <td>9992.000000</td>\n",
       "      <td>9992.000000</td>\n",
       "      <td>9992.000000</td>\n",
       "      <td>9992.000000</td>\n",
       "      <td>9992.000000</td>\n",
       "      <td>9992.000000</td>\n",
       "    </tr>\n",
       "    <tr>\n",
       "      <th>mean</th>\n",
       "      <td>2024-09-25 02:31:53.851080704</td>\n",
       "      <td>2.987190</td>\n",
       "      <td>50.340773</td>\n",
       "      <td>147.124700</td>\n",
       "      <td>3.651121</td>\n",
       "      <td>6.524019</td>\n",
       "      <td>15.733887</td>\n",
       "      <td>2024.233287</td>\n",
       "    </tr>\n",
       "    <tr>\n",
       "      <th>min</th>\n",
       "      <td>2024-03-26 00:00:00</td>\n",
       "      <td>1.000000</td>\n",
       "      <td>0.000000</td>\n",
       "      <td>41.000000</td>\n",
       "      <td>3.000000</td>\n",
       "      <td>1.000000</td>\n",
       "      <td>1.000000</td>\n",
       "      <td>2024.000000</td>\n",
       "    </tr>\n",
       "    <tr>\n",
       "      <th>25%</th>\n",
       "      <td>2024-06-26 00:00:00</td>\n",
       "      <td>2.000000</td>\n",
       "      <td>25.000000</td>\n",
       "      <td>122.000000</td>\n",
       "      <td>3.500000</td>\n",
       "      <td>4.000000</td>\n",
       "      <td>8.000000</td>\n",
       "      <td>2024.000000</td>\n",
       "    </tr>\n",
       "    <tr>\n",
       "      <th>50%</th>\n",
       "      <td>2024-09-27 00:00:00</td>\n",
       "      <td>3.000000</td>\n",
       "      <td>50.000000</td>\n",
       "      <td>151.500000</td>\n",
       "      <td>4.000000</td>\n",
       "      <td>7.000000</td>\n",
       "      <td>16.000000</td>\n",
       "      <td>2024.000000</td>\n",
       "    </tr>\n",
       "    <tr>\n",
       "      <th>75%</th>\n",
       "      <td>2024-12-26 00:00:00</td>\n",
       "      <td>4.000000</td>\n",
       "      <td>75.000000</td>\n",
       "      <td>176.000000</td>\n",
       "      <td>4.100000</td>\n",
       "      <td>10.000000</td>\n",
       "      <td>23.000000</td>\n",
       "      <td>2024.000000</td>\n",
       "    </tr>\n",
       "    <tr>\n",
       "      <th>max</th>\n",
       "      <td>2025-03-26 00:00:00</td>\n",
       "      <td>5.000000</td>\n",
       "      <td>100.000000</td>\n",
       "      <td>199.000000</td>\n",
       "      <td>4.100000</td>\n",
       "      <td>12.000000</td>\n",
       "      <td>31.000000</td>\n",
       "      <td>2025.000000</td>\n",
       "    </tr>\n",
       "    <tr>\n",
       "      <th>std</th>\n",
       "      <td>NaN</td>\n",
       "      <td>1.424311</td>\n",
       "      <td>28.918771</td>\n",
       "      <td>34.778008</td>\n",
       "      <td>0.438947</td>\n",
       "      <td>3.471234</td>\n",
       "      <td>8.803686</td>\n",
       "      <td>0.422944</td>\n",
       "    </tr>\n",
       "  </tbody>\n",
       "</table>\n",
       "</div>"
      ],
      "text/plain": [
       "                                date       rating  helpful_votes  \\\n",
       "count                           9992  9992.000000    9992.000000   \n",
       "mean   2024-09-25 02:31:53.851080704     2.987190      50.340773   \n",
       "min              2024-03-26 00:00:00     1.000000       0.000000   \n",
       "25%              2024-06-26 00:00:00     2.000000      25.000000   \n",
       "50%              2024-09-27 00:00:00     3.000000      50.000000   \n",
       "75%              2024-12-26 00:00:00     4.000000      75.000000   \n",
       "max              2025-03-26 00:00:00     5.000000     100.000000   \n",
       "std                              NaN     1.424311      28.918771   \n",
       "\n",
       "       review_length      version        month          day         year  \n",
       "count    9992.000000  9992.000000  9992.000000  9992.000000  9992.000000  \n",
       "mean      147.124700     3.651121     6.524019    15.733887  2024.233287  \n",
       "min        41.000000     3.000000     1.000000     1.000000  2024.000000  \n",
       "25%       122.000000     3.500000     4.000000     8.000000  2024.000000  \n",
       "50%       151.500000     4.000000     7.000000    16.000000  2024.000000  \n",
       "75%       176.000000     4.100000    10.000000    23.000000  2024.000000  \n",
       "max       199.000000     4.100000    12.000000    31.000000  2025.000000  \n",
       "std        34.778008     0.438947     3.471234     8.803686     0.422944  "
      ]
     },
     "execution_count": 93,
     "metadata": {},
     "output_type": "execute_result"
    }
   ],
   "source": [
    "edf.describe()"
   ]
  },
  {
   "cell_type": "code",
   "execution_count": 95,
   "id": "3773aef9-75fc-4500-af40-477a592415ad",
   "metadata": {},
   "outputs": [
    {
     "data": {
      "text/html": [
       "<div>\n",
       "<style scoped>\n",
       "    .dataframe tbody tr th:only-of-type {\n",
       "        vertical-align: middle;\n",
       "    }\n",
       "\n",
       "    .dataframe tbody tr th {\n",
       "        vertical-align: top;\n",
       "    }\n",
       "\n",
       "    .dataframe thead th {\n",
       "        text-align: right;\n",
       "    }\n",
       "</style>\n",
       "<table border=\"1\" class=\"dataframe\">\n",
       "  <thead>\n",
       "    <tr style=\"text-align: right;\">\n",
       "      <th></th>\n",
       "      <th>title</th>\n",
       "      <th>review</th>\n",
       "      <th>platform</th>\n",
       "      <th>language</th>\n",
       "      <th>location</th>\n",
       "      <th>verified_purchase</th>\n",
       "      <th>sentiment</th>\n",
       "    </tr>\n",
       "  </thead>\n",
       "  <tbody>\n",
       "    <tr>\n",
       "      <th>count</th>\n",
       "      <td>9992</td>\n",
       "      <td>9992</td>\n",
       "      <td>9992</td>\n",
       "      <td>9992</td>\n",
       "      <td>9992</td>\n",
       "      <td>9992</td>\n",
       "      <td>9992</td>\n",
       "    </tr>\n",
       "    <tr>\n",
       "      <th>unique</th>\n",
       "      <td>10</td>\n",
       "      <td>9992</td>\n",
       "      <td>2</td>\n",
       "      <td>5</td>\n",
       "      <td>6</td>\n",
       "      <td>2</td>\n",
       "      <td>3</td>\n",
       "    </tr>\n",
       "    <tr>\n",
       "      <th>top</th>\n",
       "      <td>Buggy</td>\n",
       "      <td>Mother former community upon vote fact. Sure s...</td>\n",
       "      <td>Mobile</td>\n",
       "      <td>en</td>\n",
       "      <td>Canada</td>\n",
       "      <td>No</td>\n",
       "      <td>negative</td>\n",
       "    </tr>\n",
       "    <tr>\n",
       "      <th>freq</th>\n",
       "      <td>1036</td>\n",
       "      <td>1</td>\n",
       "      <td>5011</td>\n",
       "      <td>2016</td>\n",
       "      <td>1710</td>\n",
       "      <td>5112</td>\n",
       "      <td>4065</td>\n",
       "    </tr>\n",
       "  </tbody>\n",
       "</table>\n",
       "</div>"
      ],
      "text/plain": [
       "        title                                             review platform  \\\n",
       "count    9992                                               9992     9992   \n",
       "unique     10                                               9992        2   \n",
       "top     Buggy  Mother former community upon vote fact. Sure s...   Mobile   \n",
       "freq     1036                                                  1     5011   \n",
       "\n",
       "       language location verified_purchase sentiment  \n",
       "count      9992     9992              9992      9992  \n",
       "unique        5        6                 2         3  \n",
       "top          en   Canada                No  negative  \n",
       "freq       2016     1710              5112      4065  "
      ]
     },
     "execution_count": 95,
     "metadata": {},
     "output_type": "execute_result"
    }
   ],
   "source": [
    "df.describe(include='object')"
   ]
  },
  {
   "cell_type": "code",
   "execution_count": 99,
   "id": "cf188502-f4a7-4fe7-ae91-3b535e6725f3",
   "metadata": {},
   "outputs": [
    {
     "name": "stdout",
     "output_type": "stream",
     "text": [
      "<class 'pandas.core.frame.DataFrame'>\n",
      "RangeIndex: 9992 entries, 0 to 9991\n",
      "Data columns (total 18 columns):\n",
      " #   Column             Non-Null Count  Dtype         \n",
      "---  ------             --------------  -----         \n",
      " 0   date               9992 non-null   datetime64[ns]\n",
      " 1   title              9992 non-null   object        \n",
      " 2   review             9992 non-null   object        \n",
      " 3   rating             9992 non-null   int64         \n",
      " 4   helpful_votes      9992 non-null   int64         \n",
      " 5   review_length      9992 non-null   int64         \n",
      " 6   platform           9992 non-null   object        \n",
      " 7   language           9992 non-null   object        \n",
      " 8   location           9992 non-null   object        \n",
      " 9   version            9992 non-null   float64       \n",
      " 10  verified_purchase  9992 non-null   object        \n",
      " 11  sentiment          9992 non-null   object        \n",
      " 12  month              9992 non-null   int32         \n",
      " 13  day                9992 non-null   int32         \n",
      " 14  weekday_name       9992 non-null   object        \n",
      " 15  is_weekend         9992 non-null   bool          \n",
      " 16  year               9992 non-null   int32         \n",
      " 17  short_review       9992 non-null   bool          \n",
      "dtypes: bool(2), datetime64[ns](1), float64(1), int32(3), int64(3), object(8)\n",
      "memory usage: 1.1+ MB\n"
     ]
    }
   ],
   "source": [
    "edf.info()"
   ]
  },
  {
   "cell_type": "code",
   "execution_count": 101,
   "id": "178a384c-b706-405d-98e6-7cfbeb106183",
   "metadata": {},
   "outputs": [
    {
     "data": {
      "text/plain": [
       "count    9992.000000\n",
       "mean        2.987190\n",
       "std         1.424311\n",
       "min         1.000000\n",
       "25%         2.000000\n",
       "50%         3.000000\n",
       "75%         4.000000\n",
       "max         5.000000\n",
       "Name: rating, dtype: float64"
      ]
     },
     "execution_count": 101,
     "metadata": {},
     "output_type": "execute_result"
    }
   ],
   "source": [
    "#univariate analysis of rating\n",
    "edf['rating'].describe()"
   ]
  },
  {
   "cell_type": "code",
   "execution_count": 115,
   "id": "30185845-c566-4b69-a2b2-ca2882dbee7f",
   "metadata": {},
   "outputs": [
    {
     "data": {
      "image/png": "[encoded data removed]",
      "text/plain": [
       "<Figure size 500x500 with 1 Axes>"
      ]
     },
     "metadata": {},
     "output_type": "display_data"
    }
   ],
   "source": [
    "import seaborn as sns\n",
    "import matplotlib.pyplot as plt\n",
    "\n",
    "plt.figure(figsize=(5,5))\n",
    "sns.histplot(data=df,x='rating')\n",
    "plt.title(\"Univariate analysis of rating\")\n",
    "plt.show()"
   ]
  },
  {
   "cell_type": "code",
   "execution_count": 123,
   "id": "a0020d65-0e9d-4f68-9864-e0707c353f52",
   "metadata": {},
   "outputs": [
    {
     "data": {
      "text/plain": [
       "platform\n",
       "Mobile    5011\n",
       "Web       4981\n",
       "Name: rating, dtype: int64"
      ]
     },
     "execution_count": 123,
     "metadata": {},
     "output_type": "execute_result"
    }
   ],
   "source": [
    "edf.groupby('platform')['rating'].count()"
   ]
  },
  {
   "cell_type": "code",
   "execution_count": 125,
   "id": "1ea42dd4-857d-4fb8-b50d-50d804d440b7",
   "metadata": {},
   "outputs": [
    {
     "data": {
      "text/plain": [
       "<Axes: xlabel='rating', ylabel='Count'>"
      ]
     },
     "execution_count": 125,
     "metadata": {},
     "output_type": "execute_result"
    },
    {
     "data": {
      "image/png": "[encoded data removed]",
      "text/plain": [
       "<Figure size 500x500 with 1 Axes>"
      ]
     },
     "metadata": {},
     "output_type": "display_data"
    }
   ],
   "source": [
    "import seaborn as sns\n",
    "import matplotlib.pyplot as plt\n",
    "\n",
    "plt.figure(figsize=(5,5))\n",
    "sns.histplot(data=edf,x='rating',hue='platform')"
   ]
  },
  {
   "cell_type": "code",
   "execution_count": 151,
   "id": "4b31a9cc-f30b-47a3-a389-a77f8c9e7dc4",
   "metadata": {},
   "outputs": [
    {
     "data": {
      "image/png": "[encoded data removed]",
      "text/plain": [
       "<Figure size 600x500 with 1 Axes>"
      ]
     },
     "metadata": {},
     "output_type": "display_data"
    }
   ],
   "source": [
    "#rating analysis by platform\n",
    "\n",
    "plt.figure(figsize=(6,5))\n",
    "sns.histplot(data=edf, x='rating', hue='platform' , multiple = 'dodge')\n",
    "plt.xticks([1, 2, 3, 4, 5])\n",
    "plt.title('Rating Distribution by Platform')\n",
    "plt.show()\n"
   ]
  },
  {
   "cell_type": "code",
   "execution_count": 195,
   "id": "20786a79-979c-42a9-9882-c7de46fae9f7",
   "metadata": {},
   "outputs": [
    {
     "data": {
      "image/png": "[encoded data removed]",
      "text/plain": [
       "<Figure size 600x500 with 1 Axes>"
      ]
     },
     "metadata": {},
     "output_type": "display_data"
    }
   ],
   "source": [
    "#rating analysis by platform\n",
    "\n",
    "plt.figure(figsize=(6,5))\n",
    "ax = sns.histplot(data=edf, x='rating', hue='language' , multiple = 'dodge',shrink=3)\n",
    "sns.move_legend(ax, \"upper left\", bbox_to_anchor=(1, 1))\n",
    "plt.xticks([1, 2, 3, 4, 5])\n",
    "plt.title('Rating Distribution by language')\n",
    "plt.show()\n"
   ]
  },
  {
   "cell_type": "code",
   "execution_count": 197,
   "id": "dea21d4d-3833-4d84-929e-c3c12f6559a2",
   "metadata": {},
   "outputs": [
    {
     "data": {
      "image/png": "[encoded data removed]",
      "text/plain": [
       "<Figure size 600x500 with 1 Axes>"
      ]
     },
     "metadata": {},
     "output_type": "display_data"
    }
   ],
   "source": [
    "#rating analysis by location\n",
    "\n",
    "plt.figure(figsize=(6,5))\n",
    "ax = sns.histplot(data=edf, x='rating', hue='location' , multiple = 'dodge',shrink=3)\n",
    "sns.move_legend(ax, \"upper left\", bbox_to_anchor=(1, 1))\n",
    "plt.xticks([1, 2, 3, 4, 5])\n",
    "plt.title('Rating Distribution by location')\n",
    "plt.show()\n"
   ]
  },
  {
   "cell_type": "code",
   "execution_count": 199,
   "id": "d0791f61-b767-40d3-abe2-f7da2a625e70",
   "metadata": {},
   "outputs": [
    {
     "data": {
      "image/png": "[encoded data removed]",
      "text/plain": [
       "<Figure size 600x500 with 1 Axes>"
      ]
     },
     "metadata": {},
     "output_type": "display_data"
    }
   ],
   "source": [
    "#rating analysis by version\n",
    "\n",
    "plt.figure(figsize=(6,5))\n",
    "ax = sns.histplot(data=edf, x='rating', hue='version' , multiple = 'dodge',shrink=3)\n",
    "sns.move_legend(ax, \"upper left\", bbox_to_anchor=(1, 1))\n",
    "plt.xticks([1, 2, 3, 4, 5])\n",
    "plt.title('Rating Distribution by version')\n",
    "plt.show()\n"
   ]
  },
  {
   "cell_type": "code",
   "execution_count": 205,
   "id": "9206707a-36cb-43ab-8135-3bdf8caeb7b7",
   "metadata": {},
   "outputs": [
    {
     "data": {
      "image/png": "[encoded data removed]",
      "text/plain": [
       "<Figure size 600x500 with 1 Axes>"
      ]
     },
     "metadata": {},
     "output_type": "display_data"
    }
   ],
   "source": [
    "#rating analysis by purchase\n",
    "\n",
    "plt.figure(figsize=(6,5))\n",
    "ax = sns.histplot(data=edf, x='rating', hue='verified_purchase' , multiple = 'dodge',shrink=3)\n",
    "sns.move_legend(ax, \"upper left\", bbox_to_anchor=(1, 1))\n",
    "plt.xticks([1, 2, 3, 4, 5])\n",
    "plt.title('Rating Distribution by verified_purchase')\n",
    "plt.show()\n"
   ]
  },
  {
   "cell_type": "code",
   "execution_count": 257,
   "id": "900cff49-aa1f-4528-aab1-a9c609ef43e0",
   "metadata": {},
   "outputs": [
    {
     "name": "stdout",
     "output_type": "stream",
     "text": [
      "<class 'pandas.core.frame.DataFrame'>\n",
      "RangeIndex: 9992 entries, 0 to 9991\n",
      "Data columns (total 21 columns):\n",
      " #   Column             Non-Null Count  Dtype         \n",
      "---  ------             --------------  -----         \n",
      " 0   date               9992 non-null   datetime64[ns]\n",
      " 1   title              9992 non-null   object        \n",
      " 2   review             9992 non-null   object        \n",
      " 3   rating             9992 non-null   int64         \n",
      " 4   helpful_votes      9992 non-null   int64         \n",
      " 5   review_length      9992 non-null   int64         \n",
      " 6   platform           9992 non-null   object        \n",
      " 7   language           9992 non-null   object        \n",
      " 8   location           9992 non-null   object        \n",
      " 9   version            9992 non-null   float64       \n",
      " 10  verified_purchase  9992 non-null   object        \n",
      " 11  sentiment          9992 non-null   object        \n",
      " 12  month              9992 non-null   int32         \n",
      " 13  day                9992 non-null   int32         \n",
      " 14  weekday_name       9992 non-null   object        \n",
      " 15  is_weekend         9992 non-null   bool          \n",
      " 16  year               9992 non-null   int32         \n",
      " 17  short_review       9992 non-null   bool          \n",
      " 18  votes_bin          9992 non-null   category      \n",
      " 19  high_rating        9992 non-null   int64         \n",
      " 20  positive_rating    9992 non-null   int64         \n",
      "dtypes: bool(2), category(1), datetime64[ns](1), float64(1), int32(3), int64(5), object(8)\n",
      "memory usage: 1.3+ MB\n"
     ]
    }
   ],
   "source": [
    "edf.info()"
   ]
  },
  {
   "cell_type": "code",
   "execution_count": 259,
   "id": "f68d0604-cec6-4671-9763-25c71f12e6a8",
   "metadata": {},
   "outputs": [
    {
     "data": {
      "text/plain": [
       "array(['Impressive', 'Waste of Time', 'Not Accurate',\n",
       "       'Fantastic Experience', 'Very Helpful', 'Needs Improvement',\n",
       "       'Superb!', 'Great Tool!', 'Too Slow', 'Buggy'], dtype=object)"
      ]
     },
     "execution_count": 259,
     "metadata": {},
     "output_type": "execute_result"
    }
   ],
   "source": [
    "edf['title'].unique()"
   ]
  },
  {
   "cell_type": "code",
   "execution_count": 78,
   "id": "0512725b-dbd7-41f3-88f3-70921284134d",
   "metadata": {},
   "outputs": [
    {
     "name": "stdout",
     "output_type": "stream",
     "text": [
      "Collecting wordcloud\n",
      "  Downloading wordcloud-1.9.4-cp312-cp312-win_amd64.whl.metadata (3.5 kB)\n",
      "Requirement already satisfied: numpy>=1.6.1 in c:\\users\\jeeva\\anaconda3\\lib\\site-packages (from wordcloud) (1.26.4)\n",
      "Requirement already satisfied: pillow in c:\\users\\jeeva\\anaconda3\\lib\\site-packages (from wordcloud) (10.4.0)\n",
      "Requirement already satisfied: matplotlib in c:\\users\\jeeva\\anaconda3\\lib\\site-packages (from wordcloud) (3.9.2)\n",
      "Requirement already satisfied: contourpy>=1.0.1 in c:\\users\\jeeva\\anaconda3\\lib\\site-packages (from matplotlib->wordcloud) (1.2.0)\n",
      "Requirement already satisfied: cycler>=0.10 in c:\\users\\jeeva\\anaconda3\\lib\\site-packages (from matplotlib->wordcloud) (0.11.0)\n",
      "Requirement already satisfied: fonttools>=4.22.0 in c:\\users\\jeeva\\anaconda3\\lib\\site-packages (from matplotlib->wordcloud) (4.51.0)\n",
      "Requirement already satisfied: kiwisolver>=1.3.1 in c:\\users\\jeeva\\anaconda3\\lib\\site-packages (from matplotlib->wordcloud) (1.4.4)\n",
      "Requirement already satisfied: packaging>=20.0 in c:\\users\\jeeva\\anaconda3\\lib\\site-packages (from matplotlib->wordcloud) (24.1)\n",
      "Requirement already satisfied: pyparsing>=2.3.1 in c:\\users\\jeeva\\anaconda3\\lib\\site-packages (from matplotlib->wordcloud) (3.1.2)\n",
      "Requirement already satisfied: python-dateutil>=2.7 in c:\\users\\jeeva\\anaconda3\\lib\\site-packages (from matplotlib->wordcloud) (2.9.0.post0)\n",
      "Requirement already satisfied: six>=1.5 in c:\\users\\jeeva\\anaconda3\\lib\\site-packages (from python-dateutil>=2.7->matplotlib->wordcloud) (1.16.0)\n",
      "Downloading wordcloud-1.9.4-cp312-cp312-win_amd64.whl (301 kB)\n",
      "Installing collected packages: wordcloud\n",
      "Successfully installed wordcloud-1.9.4\n",
      "Note: you may need to restart the kernel to use updated packages.\n"
     ]
    }
   ],
   "source": [
    "pip install wordcloud\n"
   ]
  },
  {
   "cell_type": "code",
   "execution_count": 86,
   "id": "ef1b474f-5e41-45d4-8355-9ef8ed59b516",
   "metadata": {},
   "outputs": [
    {
     "data": {
      "text/plain": [
       "rating\n",
       "1    2062\n",
       "2    2007\n",
       "3    1943\n",
       "4    1975\n",
       "5    2013\n",
       "Name: count, dtype: int64"
      ]
     },
     "execution_count": 86,
     "metadata": {},
     "output_type": "execute_result"
    }
   ],
   "source": [
    "edf['rating'].value_counts().sort_index()"
   ]
  },
  {
   "cell_type": "code",
   "execution_count": 88,
   "id": "987a7259-6e0d-4715-a7f8-e96239316dc6",
   "metadata": {},
   "outputs": [
    {
     "name": "stderr",
     "output_type": "stream",
     "text": [
      "[nltk_data] Downloading package stopwords to\n",
      "[nltk_data]     C:\\Users\\JEEVA\\AppData\\Roaming\\nltk_data...\n",
      "[nltk_data]   Unzipping corpora\\stopwords.zip.\n"
     ]
    },
    {
     "data": {
      "text/plain": [
       "True"
      ]
     },
     "execution_count": 88,
     "metadata": {},
     "output_type": "execute_result"
    }
   ],
   "source": [
    "import nltk\n",
    "nltk.download('stopwords')\n"
   ]
  },
  {
   "cell_type": "code",
   "execution_count": 25,
   "id": "56dee8ad-ed9b-4b32-9014-0e775bb03f04",
   "metadata": {},
   "outputs": [
    {
     "name": "stdout",
     "output_type": "stream",
     "text": [
      "<class 'pandas.core.frame.DataFrame'>\n",
      "RangeIndex: 10000 entries, 0 to 9999\n",
      "Data columns (total 12 columns):\n",
      " #   Column             Non-Null Count  Dtype         \n",
      "---  ------             --------------  -----         \n",
      " 0   date               10000 non-null  datetime64[ns]\n",
      " 1   title              10000 non-null  object        \n",
      " 2   review             10000 non-null  object        \n",
      " 3   rating             10000 non-null  int64         \n",
      " 4   helpful_votes      10000 non-null  int64         \n",
      " 5   review_length      10000 non-null  int64         \n",
      " 6   platform           10000 non-null  object        \n",
      " 7   language           10000 non-null  object        \n",
      " 8   location           10000 non-null  object        \n",
      " 9   version            10000 non-null  float64       \n",
      " 10  verified_purchase  10000 non-null  object        \n",
      " 11  sentiment          10000 non-null  object        \n",
      "dtypes: datetime64[ns](1), float64(1), int64(3), object(7)\n",
      "memory usage: 937.6+ KB\n"
     ]
    }
   ],
   "source": [
    "df.info()"
   ]
  },
  {
   "cell_type": "code",
   "execution_count": null,
   "id": "c7fdbcde-5da5-496b-ada1-36afb888a2c1",
   "metadata": {},
   "outputs": [],
   "source": [
    "from sklearn.preprocessing import OneHotEncoder\n",
    "from sklearn.compose import ColumnTransformer\n",
    "from sklearn.pipeline import Pipeline\n",
    "from scipy.sparse import hstack\n",
    "\n",
    "\n",
    "# Input features\n",
    "text = df['review']\n",
    "X_categorical = df[['platform', 'language', 'location', 'verified_purchase', 'title']]\n",
    "y = df['sentiment']\n",
    "\n",
    "# Encode target\n",
    "from sklearn.preprocessing import LabelEncoder\n",
    "le = LabelEncoder()\n",
    "y_encoded = le.fit_transform(y)\n",
    "\n",
    "\n",
    "from sklearn.model_selection import train_test_split\n",
    "\n",
    "text_train, text_test, cat_train, cat_test, y_train, y_test = train_test_split(\n",
    "    text, X_categorical, y_encoded, test_size=0.2, random_state=42, stratify=y_encoded\n",
    ")\n",
    "\n",
    "\n",
    "from sklearn.feature_extraction.text import TfidfVectorizer\n",
    "\n",
    "tfidf = TfidfVectorizer(max_features=5000, stop_words='english', ngram_range=(1,2))\n",
    "X_train_text = tfidf.fit_transform(text_train)\n",
    "X_test_text = tfidf.transform(text_test)\n",
    "\n",
    "\n",
    "ohe = OneHotEncoder(handle_unknown='ignore', sparse=True)\n",
    "\n",
    "X_train_cat = ohe.fit_transform(cat_train)\n",
    "X_test_cat = ohe.transform(cat_test)\n",
    "\n",
    "\n",
    "from scipy.sparse import hstack\n",
    "\n",
    "X_train_combined = hstack([X_train_text, X_train_cat])\n",
    "X_test_combined = hstack([X_test_text, X_test_cat])\n",
    "\n",
    "\n",
    "from sklearn.linear_model import LogisticRegression\n",
    "\n",
    "model = LogisticRegression(max_iter=1000)\n",
    "model.fit(X_train_combined, y_train)\n",
    "y_pred = model.predict(X_test_combined)\n",
    "\n",
    "\n",
    "from sklearn.metrics import classification_report, accuracy_score\n",
    "\n",
    "print(\"Accuracy:\", accuracy_score(y_test, y_pred))\n",
    "print(classification_report(y_test, y_pred, target_names=le.classes_))\n"
   ]
  },
  {
   "cell_type": "code",
   "execution_count": 69,
   "id": "1ff57dec-e519-4e98-a578-9c616a62dfe7",
   "metadata": {},
   "outputs": [
    {
     "name": "stdout",
     "output_type": "stream",
     "text": [
      "<class 'pandas.core.frame.DataFrame'>\n",
      "RangeIndex: 10000 entries, 0 to 9999\n",
      "Data columns (total 12 columns):\n",
      " #   Column             Non-Null Count  Dtype         \n",
      "---  ------             --------------  -----         \n",
      " 0   date               10000 non-null  datetime64[ns]\n",
      " 1   title              10000 non-null  object        \n",
      " 2   review             10000 non-null  object        \n",
      " 3   rating             10000 non-null  int64         \n",
      " 4   helpful_votes      10000 non-null  int64         \n",
      " 5   review_length      10000 non-null  int64         \n",
      " 6   platform           10000 non-null  object        \n",
      " 7   language           10000 non-null  object        \n",
      " 8   location           10000 non-null  object        \n",
      " 9   version            10000 non-null  float64       \n",
      " 10  verified_purchase  10000 non-null  object        \n",
      " 11  sentiment          10000 non-null  object        \n",
      "dtypes: datetime64[ns](1), float64(1), int64(3), object(7)\n",
      "memory usage: 937.6+ KB\n"
     ]
    },
    {
     "data": {
      "text/html": [
       "<div>\n",
       "<style scoped>\n",
       "    .dataframe tbody tr th:only-of-type {\n",
       "        vertical-align: middle;\n",
       "    }\n",
       "\n",
       "    .dataframe tbody tr th {\n",
       "        vertical-align: top;\n",
       "    }\n",
       "\n",
       "    .dataframe thead th {\n",
       "        text-align: right;\n",
       "    }\n",
       "</style>\n",
       "<table border=\"1\" class=\"dataframe\">\n",
       "  <thead>\n",
       "    <tr style=\"text-align: right;\">\n",
       "      <th></th>\n",
       "      <th>date</th>\n",
       "      <th>title</th>\n",
       "      <th>review</th>\n",
       "      <th>rating</th>\n",
       "      <th>helpful_votes</th>\n",
       "      <th>review_length</th>\n",
       "      <th>platform</th>\n",
       "      <th>language</th>\n",
       "      <th>location</th>\n",
       "      <th>version</th>\n",
       "      <th>verified_purchase</th>\n",
       "      <th>sentiment</th>\n",
       "    </tr>\n",
       "  </thead>\n",
       "  <tbody>\n",
       "    <tr>\n",
       "      <th>0</th>\n",
       "      <td>2025-02-15</td>\n",
       "      <td>Impressive</td>\n",
       "      <td>Mother former community upon vote fact. Sure s...</td>\n",
       "      <td>2</td>\n",
       "      <td>68</td>\n",
       "      <td>78</td>\n",
       "      <td>Mobile</td>\n",
       "      <td>es</td>\n",
       "      <td>Canada</td>\n",
       "      <td>3.0</td>\n",
       "      <td>No</td>\n",
       "      <td>negative</td>\n",
       "    </tr>\n",
       "    <tr>\n",
       "      <th>1</th>\n",
       "      <td>2024-10-16</td>\n",
       "      <td>Waste of Time</td>\n",
       "      <td>General paper understand main. Or age half won...</td>\n",
       "      <td>5</td>\n",
       "      <td>71</td>\n",
       "      <td>193</td>\n",
       "      <td>Web</td>\n",
       "      <td>de</td>\n",
       "      <td>India</td>\n",
       "      <td>4.1</td>\n",
       "      <td>Yes</td>\n",
       "      <td>positive</td>\n",
       "    </tr>\n",
       "    <tr>\n",
       "      <th>2</th>\n",
       "      <td>2024-10-16</td>\n",
       "      <td>Waste of Time</td>\n",
       "      <td>Here situation his high stage. Agree certainly...</td>\n",
       "      <td>4</td>\n",
       "      <td>66</td>\n",
       "      <td>184</td>\n",
       "      <td>Web</td>\n",
       "      <td>hi</td>\n",
       "      <td>India</td>\n",
       "      <td>4.1</td>\n",
       "      <td>Yes</td>\n",
       "      <td>positive</td>\n",
       "    </tr>\n",
       "    <tr>\n",
       "      <th>3</th>\n",
       "      <td>2024-12-21</td>\n",
       "      <td>Not Accurate</td>\n",
       "      <td>Rule court behind growth reality. Tonight whos...</td>\n",
       "      <td>1</td>\n",
       "      <td>5</td>\n",
       "      <td>193</td>\n",
       "      <td>Web</td>\n",
       "      <td>fr</td>\n",
       "      <td>Canada</td>\n",
       "      <td>4.0</td>\n",
       "      <td>Yes</td>\n",
       "      <td>negative</td>\n",
       "    </tr>\n",
       "    <tr>\n",
       "      <th>4</th>\n",
       "      <td>2025-03-23</td>\n",
       "      <td>Fantastic Experience</td>\n",
       "      <td>Case opportunity season road write. Effort gre...</td>\n",
       "      <td>3</td>\n",
       "      <td>71</td>\n",
       "      <td>131</td>\n",
       "      <td>Web</td>\n",
       "      <td>hi</td>\n",
       "      <td>Australia</td>\n",
       "      <td>4.1</td>\n",
       "      <td>No</td>\n",
       "      <td>neutral</td>\n",
       "    </tr>\n",
       "  </tbody>\n",
       "</table>\n",
       "</div>"
      ],
      "text/plain": [
       "        date                 title  \\\n",
       "0 2025-02-15            Impressive   \n",
       "1 2024-10-16         Waste of Time   \n",
       "2 2024-10-16         Waste of Time   \n",
       "3 2024-12-21          Not Accurate   \n",
       "4 2025-03-23  Fantastic Experience   \n",
       "\n",
       "                                              review  rating  helpful_votes  \\\n",
       "0  Mother former community upon vote fact. Sure s...       2             68   \n",
       "1  General paper understand main. Or age half won...       5             71   \n",
       "2  Here situation his high stage. Agree certainly...       4             66   \n",
       "3  Rule court behind growth reality. Tonight whos...       1              5   \n",
       "4  Case opportunity season road write. Effort gre...       3             71   \n",
       "\n",
       "   review_length platform language   location  version verified_purchase  \\\n",
       "0             78   Mobile       es     Canada      3.0                No   \n",
       "1            193      Web       de      India      4.1               Yes   \n",
       "2            184      Web       hi      India      4.1               Yes   \n",
       "3            193      Web       fr     Canada      4.0               Yes   \n",
       "4            131      Web       hi  Australia      4.1                No   \n",
       "\n",
       "  sentiment  \n",
       "0  negative  \n",
       "1  positive  \n",
       "2  positive  \n",
       "3  negative  \n",
       "4   neutral  "
      ]
     },
     "execution_count": 69,
     "metadata": {},
     "output_type": "execute_result"
    }
   ],
   "source": [
    "df.info()\n",
    "df.head()"
   ]
  },
  {
   "cell_type": "code",
   "execution_count": 71,
   "id": "7eb21ce6-3d1b-4f90-8c8e-476b313fbaa4",
   "metadata": {},
   "outputs": [],
   "source": [
    "df.to_csv(r\"D:\\Jeeva\\ds_course\\sentiment_analysis\\chatgpt_reviews_cleaned.csv\",index=False)"
   ]
  },
  {
   "cell_type": "code",
   "execution_count": 1,
   "id": "9d081164-f549-4d00-9a33-400a970b3aee",
   "metadata": {},
   "outputs": [
    {
     "data": {
      "text/html": [
       "<div>\n",
       "<style scoped>\n",
       "    .dataframe tbody tr th:only-of-type {\n",
       "        vertical-align: middle;\n",
       "    }\n",
       "\n",
       "    .dataframe tbody tr th {\n",
       "        vertical-align: top;\n",
       "    }\n",
       "\n",
       "    .dataframe thead th {\n",
       "        text-align: right;\n",
       "    }\n",
       "</style>\n",
       "<table border=\"1\" class=\"dataframe\">\n",
       "  <thead>\n",
       "    <tr style=\"text-align: right;\">\n",
       "      <th></th>\n",
       "      <th>date</th>\n",
       "      <th>title</th>\n",
       "      <th>review</th>\n",
       "      <th>rating</th>\n",
       "      <th>helpful_votes</th>\n",
       "      <th>review_length</th>\n",
       "      <th>platform</th>\n",
       "      <th>language</th>\n",
       "      <th>location</th>\n",
       "      <th>version</th>\n",
       "      <th>verified_purchase</th>\n",
       "      <th>sentiment</th>\n",
       "    </tr>\n",
       "  </thead>\n",
       "  <tbody>\n",
       "    <tr>\n",
       "      <th>0</th>\n",
       "      <td>2025-02-15</td>\n",
       "      <td>Impressive</td>\n",
       "      <td>Mother former community upon vote fact. Sure s...</td>\n",
       "      <td>2</td>\n",
       "      <td>68</td>\n",
       "      <td>78</td>\n",
       "      <td>Mobile</td>\n",
       "      <td>es</td>\n",
       "      <td>Canada</td>\n",
       "      <td>3.0</td>\n",
       "      <td>No</td>\n",
       "      <td>negative</td>\n",
       "    </tr>\n",
       "    <tr>\n",
       "      <th>1</th>\n",
       "      <td>2024-10-16</td>\n",
       "      <td>Waste of Time</td>\n",
       "      <td>General paper understand main. Or age half won...</td>\n",
       "      <td>5</td>\n",
       "      <td>71</td>\n",
       "      <td>193</td>\n",
       "      <td>Web</td>\n",
       "      <td>de</td>\n",
       "      <td>India</td>\n",
       "      <td>4.1</td>\n",
       "      <td>Yes</td>\n",
       "      <td>positive</td>\n",
       "    </tr>\n",
       "    <tr>\n",
       "      <th>2</th>\n",
       "      <td>2024-10-16</td>\n",
       "      <td>Waste of Time</td>\n",
       "      <td>Here situation his high stage. Agree certainly...</td>\n",
       "      <td>4</td>\n",
       "      <td>66</td>\n",
       "      <td>184</td>\n",
       "      <td>Web</td>\n",
       "      <td>hi</td>\n",
       "      <td>India</td>\n",
       "      <td>4.1</td>\n",
       "      <td>Yes</td>\n",
       "      <td>positive</td>\n",
       "    </tr>\n",
       "    <tr>\n",
       "      <th>3</th>\n",
       "      <td>2024-12-21</td>\n",
       "      <td>Not Accurate</td>\n",
       "      <td>Rule court behind growth reality. Tonight whos...</td>\n",
       "      <td>1</td>\n",
       "      <td>5</td>\n",
       "      <td>193</td>\n",
       "      <td>Web</td>\n",
       "      <td>fr</td>\n",
       "      <td>Canada</td>\n",
       "      <td>4.0</td>\n",
       "      <td>Yes</td>\n",
       "      <td>negative</td>\n",
       "    </tr>\n",
       "    <tr>\n",
       "      <th>4</th>\n",
       "      <td>2025-03-23</td>\n",
       "      <td>Fantastic Experience</td>\n",
       "      <td>Case opportunity season road write. Effort gre...</td>\n",
       "      <td>3</td>\n",
       "      <td>71</td>\n",
       "      <td>131</td>\n",
       "      <td>Web</td>\n",
       "      <td>hi</td>\n",
       "      <td>Australia</td>\n",
       "      <td>4.1</td>\n",
       "      <td>No</td>\n",
       "      <td>neutral</td>\n",
       "    </tr>\n",
       "  </tbody>\n",
       "</table>\n",
       "</div>"
      ],
      "text/plain": [
       "         date                 title  \\\n",
       "0  2025-02-15            Impressive   \n",
       "1  2024-10-16         Waste of Time   \n",
       "2  2024-10-16         Waste of Time   \n",
       "3  2024-12-21          Not Accurate   \n",
       "4  2025-03-23  Fantastic Experience   \n",
       "\n",
       "                                              review  rating  helpful_votes  \\\n",
       "0  Mother former community upon vote fact. Sure s...       2             68   \n",
       "1  General paper understand main. Or age half won...       5             71   \n",
       "2  Here situation his high stage. Agree certainly...       4             66   \n",
       "3  Rule court behind growth reality. Tonight whos...       1              5   \n",
       "4  Case opportunity season road write. Effort gre...       3             71   \n",
       "\n",
       "   review_length platform language   location  version verified_purchase  \\\n",
       "0             78   Mobile       es     Canada      3.0                No   \n",
       "1            193      Web       de      India      4.1               Yes   \n",
       "2            184      Web       hi      India      4.1               Yes   \n",
       "3            193      Web       fr     Canada      4.0               Yes   \n",
       "4            131      Web       hi  Australia      4.1                No   \n",
       "\n",
       "  sentiment  \n",
       "0  negative  \n",
       "1  positive  \n",
       "2  positive  \n",
       "3  negative  \n",
       "4   neutral  "
      ]
     },
     "execution_count": 1,
     "metadata": {},
     "output_type": "execute_result"
    }
   ],
   "source": [
    "import pandas as pd\n",
    "\n",
    "df_new = pd.read_csv(r\"D:\\Jeeva\\ds_course\\sentiment_analysis\\chatgpt_reviews_cleaned.csv\")\n",
    "df_new.head()"
   ]
  },
  {
   "cell_type": "code",
   "execution_count": 3,
   "id": "062adfca-7cdc-47b1-abaa-9cd8bb3e2fab",
   "metadata": {},
   "outputs": [
    {
     "name": "stdout",
     "output_type": "stream",
     "text": [
      "<class 'pandas.core.frame.DataFrame'>\n",
      "RangeIndex: 10000 entries, 0 to 9999\n",
      "Data columns (total 12 columns):\n",
      " #   Column             Non-Null Count  Dtype  \n",
      "---  ------             --------------  -----  \n",
      " 0   date               10000 non-null  object \n",
      " 1   title              10000 non-null  object \n",
      " 2   review             10000 non-null  object \n",
      " 3   rating             10000 non-null  int64  \n",
      " 4   helpful_votes      10000 non-null  int64  \n",
      " 5   review_length      10000 non-null  int64  \n",
      " 6   platform           10000 non-null  object \n",
      " 7   language           10000 non-null  object \n",
      " 8   location           10000 non-null  object \n",
      " 9   version            10000 non-null  float64\n",
      " 10  verified_purchase  10000 non-null  object \n",
      " 11  sentiment          10000 non-null  object \n",
      "dtypes: float64(1), int64(3), object(8)\n",
      "memory usage: 937.6+ KB\n"
     ]
    }
   ],
   "source": [
    "df_new.info()"
   ]
  },
  {
   "cell_type": "code",
   "execution_count": 5,
   "id": "ca9f6456-aa88-4bdf-a865-8faa47198747",
   "metadata": {},
   "outputs": [
    {
     "data": {
      "text/plain": [
       "array(['Canada', 'India', 'Australia', 'Germany', 'UK', 'USA'],\n",
       "      dtype=object)"
      ]
     },
     "execution_count": 5,
     "metadata": {},
     "output_type": "execute_result"
    }
   ],
   "source": [
    "df_new['location'].unique()"
   ]
  },
  {
   "cell_type": "code",
   "execution_count": 7,
   "id": "4c638cd3-14ce-4e26-b5b8-22fa3c3363d3",
   "metadata": {},
   "outputs": [
    {
     "data": {
      "text/plain": [
       "array(['es', 'de', 'hi', 'fr', 'en'], dtype=object)"
      ]
     },
     "execution_count": 7,
     "metadata": {},
     "output_type": "execute_result"
    }
   ],
   "source": [
    "df_new['language'].unique()"
   ]
  },
  {
   "cell_type": "code",
   "execution_count": 9,
   "id": "fd2c3980-915f-4ed0-ad2e-091eac7669ac",
   "metadata": {},
   "outputs": [
    {
     "data": {
      "text/plain": [
       "array([3. , 4.1, 4. , 3.5])"
      ]
     },
     "execution_count": 9,
     "metadata": {},
     "output_type": "execute_result"
    }
   ],
   "source": [
    "df_new['version'].unique()"
   ]
  },
  {
   "cell_type": "code",
   "execution_count": 11,
   "id": "9df39ed0-7226-4748-b8ca-1fea87060201",
   "metadata": {},
   "outputs": [
    {
     "data": {
      "text/plain": [
       "array([2, 5, 4, 1, 3], dtype=int64)"
      ]
     },
     "execution_count": 11,
     "metadata": {},
     "output_type": "execute_result"
    }
   ],
   "source": [
    "df_new['rating'].unique()"
   ]
  },
  {
   "cell_type": "code",
   "execution_count": 13,
   "id": "87bf3b49-0ed4-49e9-8d1f-94b754dc0bd8",
   "metadata": {},
   "outputs": [
    {
     "data": {
      "text/plain": [
       "array(['No', 'Yes'], dtype=object)"
      ]
     },
     "execution_count": 13,
     "metadata": {},
     "output_type": "execute_result"
    }
   ],
   "source": [
    "df_new['verified_purchase'].unique()"
   ]
  },
  {
   "cell_type": "code",
   "execution_count": null,
   "id": "7144f321-974c-4ce3-bf87-7f5f564a0c9a",
   "metadata": {},
   "outputs": [],
   "source": []
  }
 ],
 "metadata": {
  "kernelspec": {
   "display_name": "Python [conda env:base] *",
   "language": "python",
   "name": "conda-base-py"
  },
  "language_info": {
   "codemirror_mode": {
    "name": "ipython",
    "version": 3
   },
   "file_extension": ".py",
   "mimetype": "text/x-python",
   "name": "python",
   "nbconvert_exporter": "python",
   "pygments_lexer": "ipython3",
   "version": "3.12.7"
  }
 },
 "nbformat": 4,
 "nbformat_minor": 5
}
